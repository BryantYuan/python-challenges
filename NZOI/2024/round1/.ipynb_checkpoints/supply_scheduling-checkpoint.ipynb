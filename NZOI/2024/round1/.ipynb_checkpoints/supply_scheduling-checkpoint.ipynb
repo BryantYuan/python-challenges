{
 "cells": [
  {
   "cell_type": "markdown",
   "id": "5759d49c-2538-4e55-8b45-956aab096698",
   "metadata": {},
   "source": [
    "<h1 style ='color:Tomato'>Supply Scheduling Task</h1>"
   ]
  },
  {
   "cell_type": "markdown",
   "id": "e828000f-e39c-487c-b5ce-9ea04189207c",
   "metadata": {},
   "source": [
    "<p>Time limit: 2 seconds<br>Memory limit: 128 MB</p>"
   ]
  },
  {
   "cell_type": "markdown",
   "id": "62e011c7-7396-43b1-80af-04d7fd1b4520",
   "metadata": {},
   "source": [
    "<h2 style='color:DarkCyan;'>Details</h2>"
   ]
  },
  {
   "cell_type": "markdown",
   "id": "08aacf42-8f3b-4e7f-8c05-9dc3129b977a",
   "metadata": {},
   "source": [
    "<p>Two new zoos are set to open on the streets of New Zealand: Aardvark Asylum, and Basilisk Biosphere. When a zoo orders animal food, they have to pay for the shipping and the food. The shipping is a fixed cost, no matter how much animal food they order, and all shipments arrive on the day they're ordered. The two zoos realised that if they ordered food on the same day, they would only have to pay the shipping cost once between the two of them, saving them money!\n",
    "\n",
    "Unfortunately, both zoos require food shipments according to their own schedule. They both require shipments on exactly N days. Aardvark Asylum's schedule, A, is made up of N integers. Each integer in A represents an amount of days after opening, when the Asylum will require a shipment of food. Basilisk Biosphere's schedule, B, is also made up of N integers, each of which represents an amount of days after opening, when the Biosphere will require a shipment of food.\n",
    "\n",
    "More formally, the Asylum requires a shipment of food A[i] days after opening, for all values of i such that (0≤i≤N−1), and the Biosphere requires a shipment of food B[i] days after opening, for all values of i such that (0≤i≤N−1). Neither zoo can change their schedule, but they can change which day they open on. You have been brought on as a consultant, to help them figure out the fewest possible amount of days on which either zoo needs to order food, if the opening days of the two zoos are staggered optimally.</p>"
   ]
  },
  {
   "cell_type": "markdown",
   "id": "078f1859-de6c-4556-8f9c-9a5a2272ed71",
   "metadata": {},
   "source": [
    "<h2 style='color:DarkCyan'>Input</h2>"
   ]
  },
  {
   "cell_type": "markdown",
   "id": "a487a072-0784-4d1a-972a-b91e3dbae471",
   "metadata": {},
   "source": [
    "The input goes in the form of three lines.  \n",
    "The first line contains the interger N, how many shipping days the zoos require.  \n",
    "The second line contains a string of intergers seprated by a space. This is Aardvark Asylum's shipping.  \n",
    "The third line contains a string of intergers seprated by a space. This is Basilisk Biosphere's shipping.  \n",
    "  \n",
    "Example\n",
    "```\n",
    "5\n",
    "2 3 6 8 10\n",
    "1 3 8 9 11\n",
    "```\n",
    "Zoo A needs shipping 2, 3, 4, 5 and 10 days after opening. Zoo B on the other hand requires shipping 3, 5, 7, 8, 9 days after the opening."
   ]
  },
  {
   "cell_type": "markdown",
   "id": "e0ab68ff-a21a-4670-a7f2-6809ee70c920",
   "metadata": {},
   "source": [
    "<h2 style='color:DarkCyan'>Output</h2>"
   ]
  },
  {
   "cell_type": "markdown",
   "id": "bc9dacd4-91af-41c6-84a2-1f03261abec2",
   "metadata": {},
   "source": [
    "A single integer telling the amount of shippings needed if they choose there opening dates optimally.\\\n",
    "For the example above the solution should be: 7"
   ]
  },
  {
   "cell_type": "markdown",
   "id": "fe177f7e-d6d0-4aad-9e26-9be797cf877c",
   "metadata": {},
   "source": [
    "<h2 style='color:DarkCyan;'>Implemented Code</h2>"
   ]
  },
  {
   "cell_type": "markdown",
   "id": "8be1fc41-506f-4ff1-9907-d208eb216d54",
   "metadata": {},
   "source": [
    "Run and insert input to see the result."
   ]
  },
  {
   "cell_type": "code",
   "execution_count": 19,
   "id": "1960296f-7581-455d-98e7-c4dc5ac1d6d2",
   "metadata": {
    "ExecuteTime": {
     "end_time": "2024-10-12T02:00:12.052064Z",
     "start_time": "2024-10-12T02:00:06.786954Z"
    }
   },
   "outputs": [
    {
     "name": "stdin",
     "output_type": "stream",
     "text": [
      " 5\n",
      " 2 3 6 7 8\n",
      " 3 6 8 11 9\n"
     ]
    },
    {
     "name": "stdout",
     "output_type": "stream",
     "text": [
      "7\n"
     ]
    }
   ],
   "source": [
    "number_of_days = int(input())\n",
    "aardvarkAsylum = list(map(int, input().split()))\n",
    "basiliskBiosphere = list(map(int, input().split()))\n",
    "\n",
    "\n",
    "def findDifferences(_a, _b, _n):\n",
    "    difference_counts = dict()\n",
    "    for day_a in _a:\n",
    "        for day_b in _b:\n",
    "            key = day_b - day_a\n",
    "\n",
    "            if key not in difference_counts.keys():\n",
    "                difference_counts[key] = 1\n",
    "                continue\n",
    "\n",
    "            difference_counts[key] += 1\n",
    "    return 2 * _n - max(difference_counts.values())\n",
    "\n",
    "\n",
    "print(findDifferences(aardvarkAsylum, basiliskBiosphere, number_of_days))"
   ]
  },
  {
   "cell_type": "markdown",
   "id": "e92b2fe8c61fe1aa",
   "metadata": {},
   "source": [
    "<h2 style='color:DarkCyan;'>Memory Usage </h2>"
   ]
  },
  {
   "cell_type": "markdown",
   "id": "a1d04f21-7d6a-470c-b682-f91832d14c40",
   "metadata": {},
   "source": [
    "The following code shows the memory limit. Run the code and insert the any input to see how many MBs the code uses."
   ]
  },
  {
   "cell_type": "code",
   "execution_count": 1,
   "id": "7dcbb4cd-f99e-4312-9778-5bde86be281b",
   "metadata": {
    "ExecuteTime": {
     "end_time": "2024-10-12T02:03:28.403931Z",
     "start_time": "2024-10-12T02:03:24.439161Z"
    }
   },
   "outputs": [
    {
     "name": "stdout",
     "output_type": "stream",
     "text": [
      "1\n",
      "Memory used 0.073728 MB\n"
     ]
    }
   ],
   "source": [
    "from memory_calculater import calculate_memory_usage\n",
    "\n",
    "file = '/Users/bryanty/PycharmProjects/CCC/NZOI/2024/round1/supply_scheduling.py'\n",
    "\n",
    "mem = calculate_memory_usage(file)\n",
    "print(f'Memory used {mem * 1.048576} MB')"
   ]
  },
  {
   "cell_type": "markdown",
   "id": "01ac112a-925b-4b2f-8cab-48702e7e6159",
   "metadata": {},
   "source": [
    "<h2 style='color:DarkCyan'>Time Usage</h2>"
   ]
  },
  {
   "cell_type": "markdown",
   "id": "b0115ec6-5a8f-4b85-a36b-3e5d23f55d24",
   "metadata": {},
   "source": [
    "The following code calculates the time limit. Run the code and insert and input to see the time the code uses."
   ]
  },
  {
   "cell_type": "code",
   "execution_count": 20,
   "id": "ba0011f4-ddb2-4b52-bfc5-55c82393ec93",
   "metadata": {},
   "outputs": [
    {
     "name": "stdin",
     "output_type": "stream",
     "text": [
      " 5\n",
      " 1 3 4 5 6\n",
      " 3 5 6 7 1\n"
     ]
    },
    {
     "name": "stdout",
     "output_type": "stream",
     "text": [
      "0.00016188621520996094 seconds\n"
     ]
    }
   ],
   "source": [
    "import time\n",
    "from supply_scheduling import findDifferences\n",
    "number_of_days = int(input())\n",
    "aardvarkAsylum = list(map(int, input().split()))\n",
    "basiliskBiosphere = list(map(int, input().split()))\n",
    "\n",
    "start_time = time.time()\n",
    "\n",
    "findDifferences(aardvarkAsylum, basiliskBiosphere, number_of_days)\n",
    "\n",
    "print(\"%s seconds\" % (time.time() - start_time))"
   ]
  },
  {
   "cell_type": "markdown",
   "id": "131e1f27-d7c8-4ac1-b039-86f6dc10109e",
   "metadata": {},
   "source": [
    "<h2 style='color:DarkCyan;'>Big O Notation</h2>"
   ]
  },
  {
   "cell_type": "markdown",
   "id": "bf618783-6d08-48b2-9508-d0f9a1ffe600",
   "metadata": {},
   "source": [
    "Unfortuantly there is no code yet to calculate the Big O for this problem. However. We can break down the code to calculate the Big O ourselves. As we can see, there is a nested for loop of the same size(It loops the same amount of elements). Therefore the time complexity is O(n^2)."
   ]
  }
 ],
 "metadata": {
  "kernelspec": {
   "display_name": "Python 3 (ipykernel)",
   "language": "python",
   "name": "python3"
  },
  "language_info": {
   "codemirror_mode": {
    "name": "ipython",
    "version": 3
   },
   "file_extension": ".py",
   "mimetype": "text/x-python",
   "name": "python",
   "nbconvert_exporter": "python",
   "pygments_lexer": "ipython3",
   "version": "3.8.2"
  }
 },
 "nbformat": 4,
 "nbformat_minor": 5
}
